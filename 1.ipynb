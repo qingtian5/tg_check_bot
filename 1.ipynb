{
 "cells": [
  {
   "cell_type": "code",
   "execution_count": null,
   "id": "625fd8e7",
   "metadata": {},
   "outputs": [],
   "source": [
    "from datetime import datetime\n",
    "from telegram import Chat, Message, User\n",
    "from telegram.constants import ChatType, MessageOriginType\n",
    "from telegram.helpers import MessageOriginUser\n",
    "from telegram import MessageOrigin\n",
    "from telegram import MessageEntity\n",
    "from telegram import MessageEntityType\n",
    "\n",
    "a = Message(api_kwargs={'forward_date': 1745254625, 'forward_from': {'id': 7648170215, 'is_bot': False, 'first_name': '小贝', 'username': 'a52019'}}, channel_chat_created=False, chat=Chat(id=-1002312592897, title='杭州798test', type=<ChatType.SUPERGROUP>, username='testchoujiang798'), date=datetime.datetime(2025, 4, 22, 5, 18, 27, tzinfo=datetime.timezone.utc), delete_chat_photo=False, forward_origin=MessageOriginUser(date=datetime.datetime(2025, 4, 21, 16, 57, 5, tzinfo=datetime.timezone.utc), sender_user=User(first_name='小贝', id=7648170215, is_bot=False, username='a52019'), type=<MessageOriginType.USER>), from_user=User(first_name='呆呆（永永远远的岸）', id=7282561422, is_bot=False, language_code='zh-hans', username='daidai562'), group_chat_created=False, has_protected_content=True, message_id=1823, supergroup_chat_created=False, text='嘻嘻')"
   ]
  },
  {
   "cell_type": "code",
   "execution_count": null,
   "id": "b642a4c7",
   "metadata": {},
   "outputs": [],
   "source": [
    "Message(api_kwargs={'forward_date': 1745297834, 'forward_sender_name': 'の暗克 梦想是成为超级大桩基'}, channel_chat_created=False, chat=Chat(id=-1002312592897, title='杭州798test', type=<ChatType.SUPERGROUP>, username='testchoujiang798'), date=datetime.datetime(2025, 4, 22, 5, 28, 19, tzinfo=datetime.timezone.utc), delete_chat_photo=False, forward_origin=MessageOriginHiddenUser(date=datetime.datetime(2025, 4, 22, 4, 57, 14, tzinfo=datetime.timezone.utc), sender_user_name='の暗克 梦想是成为超级大桩基', type=<MessageOriginType.HIDDEN_USER>), from_user=User(first_name='呆呆（永永远远的岸）\n",
    "', id=7282561422, is_bot=False, language_code='zh-hans', username='daidai562'), group_chat_created=False, has_protected_content=True, message_id=1835, supergroup_chat_created=False, text='OK')"
   ]
  },
  {
   "cell_type": "code",
   "execution_count": null,
   "id": "9ce3742b",
   "metadata": {},
   "outputs": [],
   "source": [
    "CallbackQuery(\n",
    "    chat_instance='-664840999592494581', \n",
    "    data='mark:7282561422:7607148929:fuzhi9', \n",
    "    from_user=User(first_name='mmp', id=7340585909, is_bot=False, language_code='zh-hans', username='yahaha56'), \n",
    "    id='3857460306173953253', \n",
    "    message=Message(channel_chat_created=False, \n",
    "    chat=Chat(id=-1002312592897, title='杭州798test', type=<ChatType.SUPERGROUP>, username='testchoujiang798'), \n",
    "    date=datetime.datetime(2025, 4, 23, 15, 21, 43, tzinfo=datetime.timezone.utc), \n",
    "    delete_chat_photo=False, from_user=User(first_name='check_student', id=8136446796, is_bot=True, username='checkstu_bot'), group_chat_created=False, has_protected_content=True, message_id=3209, message_thread_id=3207, reply_markup=InlineKeyboardMarkup(inline_keyboard=((InlineKeyboardButton(callback_data='mark:7282561422:7607148929:fuzhi9', text='✅ 标记'),),)), reply_to_message=Message(api_kwargs={'forward_date': 1745421336, 'forward_from': {'id': 7607148929, 'is_bot': False, 'first_name': '依依 🐝 上城自聊', 'username': 'fuzhi9'}}, channel_chat_created=False, chat=Chat(id=-1002312592897, title='杭州798test', type=<ChatType.SUPERGROUP>, username='testchoujiang798'), date=datetime.datetime(2025, 4, 23, 15, 21, 42, tzinfo=datetime.timezone.utc), delete_chat_photo=False, forward_origin=MessageOriginUser(date=datetime.datetime(2025, 4, 23, 15, 15, 36, tzinfo=datetime.timezone.utc), sender_user=User(first_name='依依 🐝 上城自聊', id=7607148929, is_bot=False, username='fuzhi9'), type=<MessageOriginType.USER>), from_user=User(first_name='呆呆（永永远远的岸）', id=7282561422, is_bot=False, language_code='zh-hans', username='daidai562'), group_chat_created=False, has_protected_content=True, message_id=3207, supergroup_chat_created=False, text='不是早就退了吗？'), supergroup_chat_created=False, text='请选择操作：'))"
   ]
  },
  {
   "cell_type": "code",
   "execution_count": null,
   "id": "44866aa1",
   "metadata": {},
   "outputs": [
    {
     "name": "stdout",
     "output_type": "stream",
     "text": [
      "✅ users 表已重置并创建完成\n"
     ]
    }
   ],
   "source": [
    "import sqlite3\n",
    "\n",
    "DB_PATH = \"/root/data/disk/my_database_test.db\"\n",
    "\n",
    "def reset_users_table():\n",
    "    conn = sqlite3.connect(DB_PATH)\n",
    "    cursor = conn.cursor()\n",
    "\n",
    "    # 删除原有表\n",
    "    cursor.execute(\"DROP TABLE IF EXISTS users\")\n",
    "\n",
    "    # 重建表结构\n",
    "    cursor.execute('''\n",
    "    CREATE TABLE users (\n",
    "        id TEXT PRIMARY KEY,\n",
    "        username TEXT,\n",
    "        name TEXT,\n",
    "        A INTEGER DEFAULT 0,\n",
    "        B INTEGER DEFAULT 0,\n",
    "        C INTEGER DEFAULT 0,\n",
    "        D INTEGER DEFAULT 0,\n",
    "        E INTEGER DEFAULT 0,\n",
    "        F INTEGER DEFAULT 0\n",
    "    )\n",
    "    ''')\n",
    "\n",
    "    conn.commit()\n",
    "    conn.close()\n",
    "    print(\"✅ users 表已重置并创建完成\")\n",
    "\n",
    "# 调用函数\n",
    "reset_users_table()\n"
   ]
  },
  {
   "cell_type": "code",
   "execution_count": null,
   "id": "649bb1de",
   "metadata": {},
   "outputs": [],
   "source": [
    "import sqlite3\n",
    "\n",
    "DB_PATH = \"/root/data/disk/my_database.db\"\n",
    "\n",
    "def view_all_users():\n",
    "    conn = sqlite3.connect(DB_PATH)\n",
    "    cursor = conn.cursor()\n",
    "\n",
    "    cursor.execute(\"SELECT id, A, B, C, D, E, F FROM users\")\n",
    "    rows = cursor.fetchall()\n",
    "    columns = [desc[0] for desc in cursor.description]\n",
    "\n",
    "    conn.close()\n",
    "\n",
    "    if rows:\n",
    "        print(\"📄 所有记录如下：\")\n",
    "        for idx, row in enumerate(rows, start=1):\n",
    "            # print(f\"\\n第 {idx} 条记录：\")\n",
    "            user_data = dict(zip(columns, row))\n",
    "            for k, v in user_data.items():\n",
    "                print(f\"{k}: {v}\", end=\", \")\n",
    "    else:\n",
    "        print(\"⚠️ users 表中没有任何记录。\")\n",
    "\n",
    "# 调用函数\n",
    "view_all_users()\n"
   ]
  }
 ],
 "metadata": {
  "kernelspec": {
   "display_name": ".venv",
   "language": "python",
   "name": "python3"
  },
  "language_info": {
   "codemirror_mode": {
    "name": "ipython",
    "version": 3
   },
   "file_extension": ".py",
   "mimetype": "text/x-python",
   "name": "python",
   "nbconvert_exporter": "python",
   "pygments_lexer": "ipython3",
   "version": "3.12.3"
  }
 },
 "nbformat": 4,
 "nbformat_minor": 5
}
